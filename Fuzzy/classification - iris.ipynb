{
 "cells": [
  {
   "cell_type": "markdown",
   "metadata": {
    "collapsed": true
   },
   "source": [
    "# Iris Dataset - SOFENN Example"
   ]
  },
  {
   "cell_type": "markdown",
   "metadata": {},
   "source": [
    "Demonstrate multi-class classification with SOFENN on classic Iris Dataset"
   ]
  },
  {
   "cell_type": "code",
   "execution_count": 1,
   "metadata": {},
   "outputs": [
    {
     "name": "stderr",
     "output_type": "stream",
     "text": [
      "Using TensorFlow backend.\n"
     ]
    }
   ],
   "source": [
    "import numpy as np\n",
    "import random as rnd\n",
    "\n",
    "from sklearn import datasets\n",
    "from sklearn.metrics import mean_absolute_error\n",
    "from sklearn.model_selection import train_test_split\n",
    "\n",
    "import matplotlib.pyplot as plt\n",
    "from matplotlib.patches import Ellipse\n",
    "\n",
    "import keras\n",
    "import keras.backend as K\n",
    "\n",
    "from keras.optimizers import SGD\n",
    "from keras.utils import plot_model\n",
    "from keras.models import Sequential, Model\n",
    "from keras.layers import Dense, Dropout, Activation, Input\n",
    "\n",
    "from sofenn.FuzzyNetwork import FuzzyNetwork\n",
    "#from sofenn.layers.DefuzzyLayer import DefuzzyLayer\n",
    "from sofenn.layers import FuzzyLayer, NormalizedLayer, WeightedLayer, OutputLayer\n",
    "\n",
    "import os\n",
    "\n",
    "os.environ['KMP_DUPLICATE_LIB_OK']='True'"
   ]
  },
  {
   "cell_type": "markdown",
   "metadata": {},
   "source": [
    "## Read in and prep Iris Dataset"
   ]
  },
  {
   "cell_type": "code",
   "execution_count": 2,
   "metadata": {
    "scrolled": true
   },
   "outputs": [],
   "source": [
    "# read in iris dataset\n",
    "iris = datasets.load_iris()\n",
    "# create one-hot encoded vector for each class\n",
    "Y = []\n",
    "for y in iris.target:\n",
    "    tmp = np.zeros(3)\n",
    "    tmp[y] = 1\n",
    "    Y.append(tmp)\n",
    "Y = np.array(Y)\n",
    "    \n",
    "# split to train/test\n",
    "X_train, X_test, y_train, y_test = train_test_split(iris.data, Y, test_size=0.1)"
   ]
  },
  {
   "cell_type": "code",
   "execution_count": 3,
   "metadata": {
    "scrolled": true
   },
   "outputs": [
    {
     "name": "stdout",
     "output_type": "stream",
     "text": [
      "Building Fuzzy Network with 5 neurons...\n",
      "WARNING:tensorflow:From /miniconda3/envs/sofenn/lib/python3.6/site-packages/tensorflow/python/framework/op_def_library.py:263: colocate_with (from tensorflow.python.framework.ops) is deprecated and will be removed in a future version.\n",
      "Instructions for updating:\n",
      "Colocations handled automatically by placer.\n",
      "...Model successfully built!\n"
     ]
    }
   ],
   "source": [
    "fuzz = FuzzyNetwork(\n",
    "            X_train, X_test, y_train, y_test,           # data attributes\n",
    "            neurons=5, max_neurons=100,                 # initialization parameters\n",
    "            ifpart_thresh=0.1354, err_delta=0.12        # evaluation and ifpart threshold\n",
    "            )"
   ]
  },
  {
   "cell_type": "code",
   "execution_count": 4,
   "metadata": {},
   "outputs": [
    {
     "name": "stdout",
     "output_type": "stream",
     "text": [
      "Compiling model...\n",
      "__________________________________________________________________________________________________\n",
      "Layer (type)                    Output Shape         Param #     Connected to                     \n",
      "==================================================================================================\n",
      "Inputs (InputLayer)             (None, 4)            0                                            \n",
      "__________________________________________________________________________________________________\n",
      "FuzzyRules (FuzzyLayer)         (None, 5)            40          Inputs[0][0]                     \n",
      "__________________________________________________________________________________________________\n",
      "Normalization (NormalizedLayer) (None, 5)            0           FuzzyRules[0][0]                 \n",
      "__________________________________________________________________________________________________\n",
      "Weights (WeightedLayer)         (None, 5)            25          Inputs[0][0]                     \n",
      "                                                                 Normalization[0][0]              \n",
      "__________________________________________________________________________________________________\n",
      "RawOutput (OutputLayer)         (None, 1)            0           Weights[0][0]                    \n",
      "__________________________________________________________________________________________________\n",
      "Softmax (Dense)                 (None, 3)            6           RawOutput[0][0]                  \n",
      "==================================================================================================\n",
      "Total params: 71\n",
      "Trainable params: 71\n",
      "Non-trainable params: 0\n",
      "__________________________________________________________________________________________________\n",
      "None\n"
     ]
    }
   ],
   "source": [
    "fuzz.compile_model()"
   ]
  },
  {
   "cell_type": "code",
   "execution_count": 8,
   "metadata": {},
   "outputs": [
    {
     "name": "stdout",
     "output_type": "stream",
     "text": [
      "Training model...\n",
      "Epoch 1/150\n",
      "135/135 [==============================] - 0s 148us/step - loss: 0.7817 - binary_accuracy: 0.9901\n",
      "Epoch 2/150\n",
      "135/135 [==============================] - 0s 167us/step - loss: 0.8383 - binary_accuracy: 0.9901\n",
      "Epoch 3/150\n",
      "135/135 [==============================] - 0s 173us/step - loss: 0.7025 - binary_accuracy: 0.9901\n",
      "Epoch 4/150\n",
      "135/135 [==============================] - 0s 143us/step - loss: 0.8074 - binary_accuracy: 0.9901\n",
      "Epoch 5/150\n",
      "135/135 [==============================] - 0s 204us/step - loss: 0.7890 - binary_accuracy: 0.9901\n",
      "Epoch 6/150\n",
      "135/135 [==============================] - 0s 191us/step - loss: 0.8205 - binary_accuracy: 0.9901\n",
      "Epoch 7/150\n",
      "135/135 [==============================] - 0s 182us/step - loss: 0.8212 - binary_accuracy: 0.9901\n",
      "Epoch 8/150\n",
      "135/135 [==============================] - 0s 147us/step - loss: 0.8175 - binary_accuracy: 0.9901\n",
      "Epoch 9/150\n",
      "135/135 [==============================] - 0s 210us/step - loss: 0.6911 - binary_accuracy: 0.9901\n",
      "Epoch 10/150\n",
      "135/135 [==============================] - 0s 204us/step - loss: 0.8199 - binary_accuracy: 0.9901\n",
      "Epoch 11/150\n",
      "135/135 [==============================] - 0s 152us/step - loss: 0.7767 - binary_accuracy: 0.9901\n",
      "Epoch 12/150\n",
      "135/135 [==============================] - 0s 145us/step - loss: 0.7999 - binary_accuracy: 0.9901\n",
      "Epoch 13/150\n",
      "135/135 [==============================] - 0s 160us/step - loss: 0.7693 - binary_accuracy: 0.9901\n",
      "Epoch 14/150\n",
      "135/135 [==============================] - 0s 142us/step - loss: 0.8058 - binary_accuracy: 0.9901\n",
      "Epoch 15/150\n",
      "135/135 [==============================] - 0s 154us/step - loss: 0.7780 - binary_accuracy: 0.9901\n",
      "Epoch 16/150\n",
      "135/135 [==============================] - 0s 183us/step - loss: 0.7925 - binary_accuracy: 0.9901\n",
      "Epoch 17/150\n",
      "135/135 [==============================] - 0s 158us/step - loss: 0.7880 - binary_accuracy: 0.9901\n",
      "Epoch 18/150\n",
      "135/135 [==============================] - 0s 132us/step - loss: 0.7015 - binary_accuracy: 0.9901\n",
      "Epoch 19/150\n",
      "135/135 [==============================] - 0s 148us/step - loss: 0.7895 - binary_accuracy: 0.9901\n",
      "Epoch 20/150\n",
      "135/135 [==============================] - 0s 157us/step - loss: 0.7487 - binary_accuracy: 0.9901\n",
      "Epoch 21/150\n",
      "135/135 [==============================] - 0s 156us/step - loss: 0.7949 - binary_accuracy: 0.9901\n",
      "Epoch 22/150\n",
      "135/135 [==============================] - 0s 163us/step - loss: 0.7375 - binary_accuracy: 0.9901\n",
      "Epoch 23/150\n",
      "135/135 [==============================] - 0s 143us/step - loss: 0.7840 - binary_accuracy: 0.9901\n",
      "Epoch 24/150\n",
      "135/135 [==============================] - 0s 125us/step - loss: 0.7217 - binary_accuracy: 0.9901\n",
      "Epoch 25/150\n",
      "135/135 [==============================] - 0s 133us/step - loss: 0.7838 - binary_accuracy: 0.9901\n",
      "Epoch 26/150\n",
      "135/135 [==============================] - 0s 190us/step - loss: 0.7621 - binary_accuracy: 0.9901\n",
      "Epoch 27/150\n",
      "135/135 [==============================] - 0s 150us/step - loss: 0.7783 - binary_accuracy: 0.9901\n",
      "Epoch 28/150\n",
      "135/135 [==============================] - 0s 203us/step - loss: 0.7755 - binary_accuracy: 0.9901\n",
      "Epoch 29/150\n",
      "135/135 [==============================] - 0s 165us/step - loss: 0.7705 - binary_accuracy: 0.9901\n",
      "Epoch 30/150\n",
      "135/135 [==============================] - 0s 155us/step - loss: 0.7376 - binary_accuracy: 0.9901\n",
      "Epoch 31/150\n",
      "135/135 [==============================] - 0s 136us/step - loss: 0.7789 - binary_accuracy: 0.9901\n",
      "Epoch 32/150\n",
      "135/135 [==============================] - 0s 197us/step - loss: 0.7660 - binary_accuracy: 0.9901\n",
      "Epoch 33/150\n",
      "135/135 [==============================] - 0s 152us/step - loss: 0.7746 - binary_accuracy: 0.9901\n",
      "Epoch 34/150\n",
      "135/135 [==============================] - 0s 157us/step - loss: 0.7643 - binary_accuracy: 0.9901\n",
      "Epoch 35/150\n",
      "135/135 [==============================] - 0s 142us/step - loss: 0.7487 - binary_accuracy: 0.9901\n",
      "Epoch 36/150\n",
      "135/135 [==============================] - 0s 158us/step - loss: 0.7659 - binary_accuracy: 0.9901\n",
      "Epoch 37/150\n",
      "135/135 [==============================] - 0s 156us/step - loss: 0.7099 - binary_accuracy: 0.9901\n",
      "Epoch 38/150\n",
      "135/135 [==============================] - 0s 163us/step - loss: 0.7223 - binary_accuracy: 0.9901\n",
      "Epoch 39/150\n",
      "135/135 [==============================] - 0s 166us/step - loss: 0.7327 - binary_accuracy: 0.9901\n",
      "Epoch 40/150\n",
      "135/135 [==============================] - 0s 173us/step - loss: 0.7503 - binary_accuracy: 0.9901\n",
      "Epoch 41/150\n",
      "135/135 [==============================] - 0s 178us/step - loss: 0.7493 - binary_accuracy: 0.9901\n",
      "Epoch 42/150\n",
      "135/135 [==============================] - 0s 171us/step - loss: 0.7163 - binary_accuracy: 0.9901\n",
      "Epoch 43/150\n",
      "135/135 [==============================] - 0s 161us/step - loss: 0.7212 - binary_accuracy: 0.9901\n",
      "Epoch 44/150\n",
      "135/135 [==============================] - 0s 143us/step - loss: 0.7515 - binary_accuracy: 0.9901\n",
      "Epoch 45/150\n",
      "135/135 [==============================] - 0s 164us/step - loss: 0.6624 - binary_accuracy: 0.9901\n",
      "Epoch 46/150\n",
      "135/135 [==============================] - 0s 171us/step - loss: 0.7394 - binary_accuracy: 0.9901\n",
      "Epoch 47/150\n",
      "135/135 [==============================] - 0s 136us/step - loss: 0.6961 - binary_accuracy: 0.9901\n",
      "Epoch 48/150\n",
      "135/135 [==============================] - 0s 152us/step - loss: 0.7523 - binary_accuracy: 0.9901\n",
      "Epoch 49/150\n",
      "135/135 [==============================] - 0s 131us/step - loss: 0.7464 - binary_accuracy: 0.9901\n",
      "Epoch 50/150\n",
      "135/135 [==============================] - 0s 139us/step - loss: 0.7389 - binary_accuracy: 0.9901\n",
      "Epoch 51/150\n",
      "135/135 [==============================] - 0s 182us/step - loss: 0.6942 - binary_accuracy: 0.9901\n",
      "Epoch 52/150\n",
      "135/135 [==============================] - 0s 153us/step - loss: 0.7234 - binary_accuracy: 0.9901\n",
      "Epoch 53/150\n",
      "135/135 [==============================] - 0s 197us/step - loss: 0.7393 - binary_accuracy: 0.9901\n",
      "Epoch 54/150\n",
      "135/135 [==============================] - 0s 124us/step - loss: 0.7318 - binary_accuracy: 0.9901\n",
      "Epoch 55/150\n",
      "135/135 [==============================] - 0s 163us/step - loss: 0.7307 - binary_accuracy: 0.9901\n",
      "Epoch 56/150\n",
      "135/135 [==============================] - 0s 163us/step - loss: 0.7274 - binary_accuracy: 0.9901\n",
      "Epoch 57/150\n",
      "135/135 [==============================] - 0s 207us/step - loss: 0.7024 - binary_accuracy: 0.9901\n",
      "Epoch 58/150\n",
      "135/135 [==============================] - 0s 207us/step - loss: 0.7301 - binary_accuracy: 0.9901\n",
      "Epoch 59/150\n",
      "135/135 [==============================] - 0s 152us/step - loss: 0.7219 - binary_accuracy: 0.9901\n",
      "Epoch 60/150\n",
      "135/135 [==============================] - 0s 150us/step - loss: 0.7195 - binary_accuracy: 0.9901\n",
      "Epoch 61/150\n",
      "135/135 [==============================] - 0s 180us/step - loss: 0.7198 - binary_accuracy: 0.9901\n",
      "Epoch 62/150\n",
      "135/135 [==============================] - 0s 141us/step - loss: 0.7160 - binary_accuracy: 0.9901\n",
      "Epoch 63/150\n",
      "135/135 [==============================] - 0s 168us/step - loss: 0.6419 - binary_accuracy: 0.9901\n",
      "Epoch 64/150\n",
      "135/135 [==============================] - 0s 158us/step - loss: 0.7158 - binary_accuracy: 0.9901\n",
      "Epoch 65/150\n",
      "135/135 [==============================] - 0s 156us/step - loss: 0.7107 - binary_accuracy: 0.9901\n",
      "Epoch 66/150\n",
      "135/135 [==============================] - 0s 172us/step - loss: 0.7005 - binary_accuracy: 0.9901\n",
      "Epoch 67/150\n",
      "135/135 [==============================] - 0s 142us/step - loss: 0.7066 - binary_accuracy: 0.9901\n",
      "Epoch 68/150\n",
      "135/135 [==============================] - 0s 133us/step - loss: 0.6048 - binary_accuracy: 0.9901\n",
      "Epoch 69/150\n",
      "135/135 [==============================] - 0s 113us/step - loss: 0.7018 - binary_accuracy: 0.9901\n",
      "Epoch 70/150\n",
      "135/135 [==============================] - 0s 128us/step - loss: 0.7065 - binary_accuracy: 0.9901\n",
      "Epoch 71/150\n",
      "135/135 [==============================] - 0s 115us/step - loss: 0.7155 - binary_accuracy: 0.9901\n",
      "Epoch 72/150\n",
      "135/135 [==============================] - 0s 115us/step - loss: 0.7066 - binary_accuracy: 0.9901\n",
      "Epoch 73/150\n",
      "135/135 [==============================] - 0s 133us/step - loss: 0.6992 - binary_accuracy: 0.9901\n",
      "Epoch 74/150\n"
     ]
    },
    {
     "name": "stdout",
     "output_type": "stream",
     "text": [
      "135/135 [==============================] - 0s 134us/step - loss: 0.6890 - binary_accuracy: 0.9901\n",
      "Epoch 75/150\n",
      "135/135 [==============================] - 0s 125us/step - loss: 0.6348 - binary_accuracy: 0.9901\n",
      "Epoch 76/150\n",
      "135/135 [==============================] - 0s 127us/step - loss: 0.6753 - binary_accuracy: 0.9901\n",
      "Epoch 77/150\n",
      "135/135 [==============================] - 0s 124us/step - loss: 0.6512 - binary_accuracy: 0.9901\n",
      "Epoch 78/150\n",
      "135/135 [==============================] - 0s 126us/step - loss: 0.7020 - binary_accuracy: 0.9901\n",
      "Epoch 79/150\n",
      "135/135 [==============================] - 0s 139us/step - loss: 0.7059 - binary_accuracy: 0.9901\n",
      "Epoch 80/150\n",
      "135/135 [==============================] - 0s 138us/step - loss: 0.6945 - binary_accuracy: 0.9901\n",
      "Epoch 81/150\n",
      "135/135 [==============================] - 0s 158us/step - loss: 0.6959 - binary_accuracy: 0.9901\n",
      "Epoch 82/150\n",
      "135/135 [==============================] - 0s 147us/step - loss: 0.6405 - binary_accuracy: 0.9901\n",
      "Epoch 83/150\n",
      "135/135 [==============================] - 0s 132us/step - loss: 0.6940 - binary_accuracy: 0.9901\n",
      "Epoch 84/150\n",
      "135/135 [==============================] - 0s 129us/step - loss: 0.6817 - binary_accuracy: 0.9901\n",
      "Epoch 85/150\n",
      "135/135 [==============================] - 0s 134us/step - loss: 0.6375 - binary_accuracy: 0.9901\n",
      "Epoch 86/150\n",
      "135/135 [==============================] - 0s 133us/step - loss: 0.6824 - binary_accuracy: 0.9901\n",
      "Epoch 87/150\n",
      "135/135 [==============================] - 0s 121us/step - loss: 0.6623 - binary_accuracy: 0.9901\n",
      "Epoch 88/150\n",
      "135/135 [==============================] - 0s 126us/step - loss: 0.6614 - binary_accuracy: 0.9901\n",
      "Epoch 89/150\n",
      "135/135 [==============================] - 0s 143us/step - loss: 0.6677 - binary_accuracy: 0.9901\n",
      "Epoch 90/150\n",
      "135/135 [==============================] - 0s 138us/step - loss: 0.6779 - binary_accuracy: 0.9901\n",
      "Epoch 91/150\n",
      "135/135 [==============================] - 0s 126us/step - loss: 0.6520 - binary_accuracy: 0.9901\n",
      "Epoch 92/150\n",
      "135/135 [==============================] - 0s 131us/step - loss: 0.6848 - binary_accuracy: 0.9901\n",
      "Epoch 93/150\n",
      "135/135 [==============================] - 0s 129us/step - loss: 0.6779 - binary_accuracy: 0.9901\n",
      "Epoch 94/150\n",
      "135/135 [==============================] - 0s 129us/step - loss: 0.6273 - binary_accuracy: 0.9901\n",
      "Epoch 95/150\n",
      "135/135 [==============================] - 0s 148us/step - loss: 0.5684 - binary_accuracy: 0.9901\n",
      "Epoch 96/150\n",
      "135/135 [==============================] - 0s 135us/step - loss: 0.6785 - binary_accuracy: 0.9901\n",
      "Epoch 97/150\n",
      "135/135 [==============================] - 0s 141us/step - loss: 0.6822 - binary_accuracy: 0.9901\n",
      "Epoch 98/150\n",
      "135/135 [==============================] - 0s 127us/step - loss: 0.6754 - binary_accuracy: 0.9901\n",
      "Epoch 99/150\n",
      "135/135 [==============================] - 0s 130us/step - loss: 0.6548 - binary_accuracy: 0.9901\n",
      "Epoch 100/150\n",
      "135/135 [==============================] - 0s 127us/step - loss: 0.6716 - binary_accuracy: 0.9901\n",
      "Epoch 101/150\n",
      "135/135 [==============================] - 0s 128us/step - loss: 0.6320 - binary_accuracy: 0.9901\n",
      "Epoch 102/150\n",
      "135/135 [==============================] - 0s 146us/step - loss: 0.6739 - binary_accuracy: 0.9901\n",
      "Epoch 103/150\n",
      "135/135 [==============================] - 0s 120us/step - loss: 0.6512 - binary_accuracy: 0.9901\n",
      "Epoch 104/150\n",
      "135/135 [==============================] - 0s 127us/step - loss: 0.6568 - binary_accuracy: 0.9901\n",
      "Epoch 105/150\n",
      "135/135 [==============================] - 0s 121us/step - loss: 0.5695 - binary_accuracy: 0.9901\n",
      "Epoch 106/150\n",
      "135/135 [==============================] - 0s 121us/step - loss: 0.6657 - binary_accuracy: 0.9901\n",
      "Epoch 107/150\n",
      "135/135 [==============================] - 0s 121us/step - loss: 0.6501 - binary_accuracy: 0.9901\n",
      "Epoch 108/150\n",
      "135/135 [==============================] - 0s 141us/step - loss: 0.6561 - binary_accuracy: 0.9901\n",
      "Epoch 109/150\n",
      "135/135 [==============================] - 0s 135us/step - loss: 0.6491 - binary_accuracy: 0.9901\n",
      "Epoch 110/150\n",
      "135/135 [==============================] - 0s 153us/step - loss: 0.6586 - binary_accuracy: 0.9901\n",
      "Epoch 111/150\n",
      "135/135 [==============================] - 0s 162us/step - loss: 0.6590 - binary_accuracy: 0.9901\n",
      "Epoch 112/150\n",
      "135/135 [==============================] - 0s 140us/step - loss: 0.6542 - binary_accuracy: 0.9901\n",
      "Epoch 113/150\n",
      "135/135 [==============================] - 0s 148us/step - loss: 0.6601 - binary_accuracy: 0.9901\n",
      "Epoch 114/150\n",
      "135/135 [==============================] - 0s 153us/step - loss: 0.6276 - binary_accuracy: 0.9901\n",
      "Epoch 115/150\n",
      "135/135 [==============================] - 0s 145us/step - loss: 0.6586 - binary_accuracy: 0.9901\n",
      "Epoch 116/150\n",
      "135/135 [==============================] - 0s 129us/step - loss: 0.6406 - binary_accuracy: 0.9901\n",
      "Epoch 117/150\n",
      "135/135 [==============================] - 0s 151us/step - loss: 0.6584 - binary_accuracy: 0.9901\n",
      "Epoch 118/150\n",
      "135/135 [==============================] - 0s 142us/step - loss: 0.6159 - binary_accuracy: 0.9901\n",
      "Epoch 119/150\n",
      "135/135 [==============================] - 0s 140us/step - loss: 0.6451 - binary_accuracy: 0.9901\n",
      "Epoch 120/150\n",
      "135/135 [==============================] - 0s 129us/step - loss: 0.6265 - binary_accuracy: 0.9901\n",
      "Epoch 121/150\n",
      "135/135 [==============================] - 0s 140us/step - loss: 0.6444 - binary_accuracy: 0.9901\n",
      "Epoch 122/150\n",
      "135/135 [==============================] - 0s 140us/step - loss: 0.6241 - binary_accuracy: 0.9901\n",
      "Epoch 123/150\n",
      "135/135 [==============================] - 0s 124us/step - loss: 0.6300 - binary_accuracy: 0.9901\n",
      "Epoch 124/150\n",
      "135/135 [==============================] - 0s 110us/step - loss: 0.6467 - binary_accuracy: 0.9901\n",
      "Epoch 125/150\n",
      "135/135 [==============================] - 0s 151us/step - loss: 0.6158 - binary_accuracy: 0.9901\n",
      "Epoch 126/150\n",
      "135/135 [==============================] - 0s 132us/step - loss: 0.4834 - binary_accuracy: 0.9901\n",
      "Epoch 127/150\n",
      "135/135 [==============================] - 0s 126us/step - loss: 0.6295 - binary_accuracy: 0.9901\n",
      "Epoch 128/150\n",
      "135/135 [==============================] - 0s 132us/step - loss: 0.6435 - binary_accuracy: 0.9901\n",
      "Epoch 129/150\n",
      "135/135 [==============================] - 0s 137us/step - loss: 0.6337 - binary_accuracy: 0.9901\n",
      "Epoch 130/150\n",
      "135/135 [==============================] - 0s 143us/step - loss: 0.6410 - binary_accuracy: 0.9901\n",
      "Epoch 131/150\n",
      "135/135 [==============================] - 0s 116us/step - loss: 0.6268 - binary_accuracy: 0.9901\n",
      "Epoch 132/150\n",
      "135/135 [==============================] - 0s 141us/step - loss: 0.6237 - binary_accuracy: 0.9901\n",
      "Epoch 133/150\n",
      "135/135 [==============================] - 0s 145us/step - loss: 0.6424 - binary_accuracy: 0.9901\n",
      "Epoch 134/150\n",
      "135/135 [==============================] - 0s 130us/step - loss: 0.5925 - binary_accuracy: 0.9901\n",
      "Epoch 135/150\n",
      "135/135 [==============================] - 0s 142us/step - loss: 0.6366 - binary_accuracy: 0.9901\n",
      "Epoch 136/150\n",
      "135/135 [==============================] - 0s 125us/step - loss: 0.6330 - binary_accuracy: 0.9901\n",
      "Epoch 137/150\n",
      "135/135 [==============================] - 0s 151us/step - loss: 0.6338 - binary_accuracy: 0.9901\n",
      "Epoch 138/150\n",
      "135/135 [==============================] - 0s 128us/step - loss: 0.6038 - binary_accuracy: 0.9901\n",
      "Epoch 139/150\n",
      "135/135 [==============================] - 0s 138us/step - loss: 0.6339 - binary_accuracy: 0.9901\n",
      "Epoch 140/150\n",
      "135/135 [==============================] - 0s 134us/step - loss: 0.6351 - binary_accuracy: 0.9901\n",
      "Epoch 141/150\n",
      "135/135 [==============================] - 0s 144us/step - loss: 0.6284 - binary_accuracy: 0.9901\n",
      "Epoch 142/150\n",
      "135/135 [==============================] - 0s 133us/step - loss: 0.5979 - binary_accuracy: 0.9901\n",
      "Epoch 143/150\n",
      "135/135 [==============================] - 0s 177us/step - loss: 0.6229 - binary_accuracy: 0.9901\n",
      "Epoch 144/150\n",
      "135/135 [==============================] - 0s 148us/step - loss: 0.5917 - binary_accuracy: 0.9901\n",
      "Epoch 145/150\n",
      "135/135 [==============================] - 0s 127us/step - loss: 0.5506 - binary_accuracy: 0.9901\n",
      "Epoch 146/150\n",
      "135/135 [==============================] - 0s 129us/step - loss: 0.6273 - binary_accuracy: 0.9901\n",
      "Epoch 147/150\n"
     ]
    },
    {
     "name": "stdout",
     "output_type": "stream",
     "text": [
      "135/135 [==============================] - 0s 160us/step - loss: 0.6212 - binary_accuracy: 0.9901\n",
      "Epoch 148/150\n",
      "135/135 [==============================] - 0s 136us/step - loss: 0.6123 - binary_accuracy: 0.9901\n",
      "Epoch 149/150\n",
      "135/135 [==============================] - 0s 139us/step - loss: 0.5902 - binary_accuracy: 0.9901\n",
      "Epoch 150/150\n",
      "135/135 [==============================] - 0s 129us/step - loss: 0.6202 - binary_accuracy: 0.9901\n"
     ]
    }
   ],
   "source": [
    "fuzz.train_model(epochs=150)"
   ]
  },
  {
   "cell_type": "code",
   "execution_count": 9,
   "metadata": {},
   "outputs": [
    {
     "data": {
      "text/plain": [
       "[array([[ 7.643415  ,  4.472463  ,  5.3086367 ,  5.3346767 ,  5.782993  ],\n",
       "        [ 1.933244  ,  1.2550277 ,  3.9208655 ,  1.5429715 ,  3.938199  ],\n",
       "        [ 7.7084208 ,  4.8704805 ,  0.9530461 ,  5.718742  ,  1.1471996 ],\n",
       "        [ 3.5400114 ,  2.3435256 , -0.52213347,  3.1437383 , -0.50069433]],\n",
       "       dtype=float32),\n",
       " array([[4.3598747, 1.6495532, 4.4274707, 3.6760364, 4.2651973],\n",
       "        [2.9385262, 1.8006812, 3.3987815, 2.0799227, 3.4363613],\n",
       "        [3.0985408, 2.9609013, 3.4548428, 3.3004444, 3.4404006],\n",
       "        [2.3039403, 2.5767376, 2.6903005, 2.3224108, 2.7011006]],\n",
       "       dtype=float32)]"
      ]
     },
     "execution_count": 9,
     "metadata": {},
     "output_type": "execute_result"
    }
   ],
   "source": [
    "fuzz.get_layer_weights('FuzzyRules')"
   ]
  },
  {
   "cell_type": "code",
   "execution_count": 10,
   "metadata": {},
   "outputs": [
    {
     "data": {
      "text/plain": [
       "array([[6. , 3. , 4.8, 1.8],\n",
       "       [6.6, 2.9, 4.6, 1.3],\n",
       "       [4.4, 3.2, 1.3, 0.2],\n",
       "       [6.2, 2.8, 4.8, 1.8],\n",
       "       [4.9, 2.4, 3.3, 1. ],\n",
       "       [6.1, 2.6, 5.6, 1.4],\n",
       "       [5.6, 3. , 4.1, 1.3],\n",
       "       [5.1, 3.3, 1.7, 0.5],\n",
       "       [5.8, 2.8, 5.1, 2.4],\n",
       "       [4.9, 3.1, 1.5, 0.1],\n",
       "       [6.6, 3. , 4.4, 1.4],\n",
       "       [6.3, 3.4, 5.6, 2.4],\n",
       "       [6.7, 3. , 5. , 1.7],\n",
       "       [6.4, 3.2, 4.5, 1.5],\n",
       "       [5.4, 3.4, 1.5, 0.4]])"
      ]
     },
     "execution_count": 10,
     "metadata": {},
     "output_type": "execute_result"
    }
   ],
   "source": [
    "X_test"
   ]
  },
  {
   "cell_type": "code",
   "execution_count": 11,
   "metadata": {},
   "outputs": [
    {
     "data": {
      "text/plain": [
       "array([[0., 0., 1.],\n",
       "       [0., 1., 0.],\n",
       "       [1., 0., 0.],\n",
       "       [0., 0., 1.],\n",
       "       [0., 1., 0.],\n",
       "       [0., 0., 1.],\n",
       "       [0., 1., 0.],\n",
       "       [1., 0., 0.],\n",
       "       [0., 0., 1.],\n",
       "       [1., 0., 0.],\n",
       "       [0., 1., 0.],\n",
       "       [0., 0., 1.],\n",
       "       [0., 1., 0.],\n",
       "       [0., 1., 0.],\n",
       "       [1., 0., 0.]])"
      ]
     },
     "execution_count": 11,
     "metadata": {},
     "output_type": "execute_result"
    }
   ],
   "source": [
    "y_test"
   ]
  },
  {
   "cell_type": "code",
   "execution_count": 12,
   "metadata": {},
   "outputs": [
    {
     "data": {
      "text/plain": [
       "array([[0., 0., 1.],\n",
       "       [0., 1., 0.],\n",
       "       [1., 0., 0.],\n",
       "       [0., 0., 1.],\n",
       "       [0., 1., 0.],\n",
       "       [0., 0., 1.],\n",
       "       [0., 1., 0.],\n",
       "       [1., 0., 0.],\n",
       "       [0., 0., 1.],\n",
       "       [1., 0., 0.],\n",
       "       [0., 1., 0.],\n",
       "       [0., 0., 1.],\n",
       "       [0., 1., 0.],\n",
       "       [0., 1., 0.],\n",
       "       [1., 0., 0.]], dtype=float32)"
      ]
     },
     "execution_count": 12,
     "metadata": {},
     "output_type": "execute_result"
    }
   ],
   "source": [
    "y_pred = fuzz.model.predict(X_test)\n",
    "y_pred.round()"
   ]
  },
  {
   "cell_type": "code",
   "execution_count": 13,
   "metadata": {},
   "outputs": [
    {
     "data": {
      "text/plain": [
       "array([[ True,  True,  True],\n",
       "       [ True,  True,  True],\n",
       "       [ True,  True,  True],\n",
       "       [ True,  True,  True],\n",
       "       [ True,  True,  True],\n",
       "       [ True,  True,  True],\n",
       "       [ True,  True,  True],\n",
       "       [ True,  True,  True],\n",
       "       [ True,  True,  True],\n",
       "       [ True,  True,  True],\n",
       "       [ True,  True,  True],\n",
       "       [ True,  True,  True],\n",
       "       [ True,  True,  True],\n",
       "       [ True,  True,  True],\n",
       "       [ True,  True,  True]])"
      ]
     },
     "execution_count": 13,
     "metadata": {},
     "output_type": "execute_result"
    }
   ],
   "source": [
    "acc = y_test == y_pred.round()\n",
    "acc"
   ]
  },
  {
   "cell_type": "code",
   "execution_count": 14,
   "metadata": {},
   "outputs": [
    {
     "data": {
      "text/plain": [
       "1.0"
      ]
     },
     "execution_count": 14,
     "metadata": {},
     "output_type": "execute_result"
    }
   ],
   "source": [
    "acc.sum() / acc.size"
   ]
  },
  {
   "cell_type": "markdown",
   "metadata": {},
   "source": [
    "## Model Prediction Results"
   ]
  },
  {
   "cell_type": "code",
   "execution_count": 15,
   "metadata": {},
   "outputs": [
    {
     "name": "stdout",
     "output_type": "stream",
     "text": [
      "15/15 [==============================] - 0s 10ms/step\n",
      "Model Loss: 0.65088928\n",
      "Binary Accuracy: 100.0%\n"
     ]
    }
   ],
   "source": [
    "pred_loss, pred_bin_acc = fuzz.model.evaluate(X_test, y_test)\n",
    "print('Model Loss: {:0.8f}'.format(pred_loss))\n",
    "print('Binary Accuracy: {:2.1f}%'.format(100*pred_bin_acc))"
   ]
  },
  {
   "cell_type": "code",
   "execution_count": 16,
   "metadata": {},
   "outputs": [
    {
     "data": {
      "text/plain": [
       "['loss', 'binary_accuracy']"
      ]
     },
     "execution_count": 16,
     "metadata": {},
     "output_type": "execute_result"
    }
   ],
   "source": [
    "fuzz.model.metrics_names"
   ]
  },
  {
   "cell_type": "markdown",
   "metadata": {},
   "source": [
    "## Plot Results"
   ]
  },
  {
   "cell_type": "code",
   "execution_count": 18,
   "metadata": {},
   "outputs": [
    {
     "name": "stderr",
     "output_type": "stream",
     "text": [
      "'c' argument looks like a single numeric RGB or RGBA sequence, which should be avoided as value-mapping will have precedence in case its length matches with 'x' & 'y'.  Please use a 2-D array with a single row if you really want to specify the same RGB or RGBA value for all points.\n",
      "'c' argument looks like a single numeric RGB or RGBA sequence, which should be avoided as value-mapping will have precedence in case its length matches with 'x' & 'y'.  Please use a 2-D array with a single row if you really want to specify the same RGB or RGBA value for all points.\n"
     ]
    },
    {
     "data": {
      "image/png": "[encoded data removed]",
      "text/plain": [
       "<Figure size 432x288 with 1 Axes>"
      ]
     },
     "metadata": {
      "needs_background": "light"
     },
     "output_type": "display_data"
    }
   ],
   "source": [
    "w = fuzz.get_layer_weights('FuzzyRules')\n",
    "\n",
    "\n",
    "plt.clf()\n",
    "plt.title('Iris')\n",
    "plt.ylabel('x[0]')\n",
    "plt.xlabel('x[1]')\n",
    "plt.scatter([a[0] for a in X_train], [a[1] for a in X_train], c=(0,0,0), alpha=0.5,s=1)\n",
    "for i in range(0,fuzz.neurons):\n",
    "    ellipse = Ellipse((w[0][0][i], w[0][1][i]), w[1][0][i],w[1][1][i], color='r', fill=False)\n",
    "    ax = plt.gca()\n",
    "    ax.add_patch(ellipse)\n",
    "\n",
    "plt.scatter(w[0][0], w[0][1], c=(1,0,0), alpha=0.8,s=15)\n",
    "plt.show()"
   ]
  }
 ],
 "metadata": {
  "kernelspec": {
   "display_name": "Python 3",
   "language": "python",
   "name": "python3"
  },
  "language_info": {
   "codemirror_mode": {
    "name": "ipython",
    "version": 3
   },
   "file_extension": ".py",
   "mimetype": "text/x-python",
   "name": "python",
   "nbconvert_exporter": "python",
   "pygments_lexer": "ipython3",
   "version": "3.6.8"
  }
 },
 "nbformat": 4,
 "nbformat_minor": 1
}
